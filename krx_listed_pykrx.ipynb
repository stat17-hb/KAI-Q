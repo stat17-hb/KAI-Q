{
 "cells": [
  {
   "cell_type": "code",
   "execution_count": 1,
   "metadata": {},
   "outputs": [],
   "source": [
    "from pykrx import stock"
   ]
  },
  {
   "cell_type": "code",
   "execution_count": 4,
   "metadata": {},
   "outputs": [],
   "source": [
    "start_date = '2000-01-01'\n",
    "end_date = '20220331'"
   ]
  },
  {
   "cell_type": "code",
   "execution_count": 5,
   "metadata": {},
   "outputs": [],
   "source": [
    "ks_tickers = stock.get_market_ticker_list(date=end_date, market=\"KOSPI\")"
   ]
  },
  {
   "cell_type": "code",
   "execution_count": 6,
   "metadata": {},
   "outputs": [],
   "source": [
    "kq_tickers = stock.get_market_ticker_list(date=end_date, market=\"KOSDAQ\")"
   ]
  },
  {
   "cell_type": "code",
   "execution_count": 7,
   "metadata": {},
   "outputs": [
    {
     "data": {
      "text/plain": [
       "(940, 1556)"
      ]
     },
     "execution_count": 7,
     "metadata": {},
     "output_type": "execute_result"
    }
   ],
   "source": [
    "len(ks_tickers), len(kq_tickers)"
   ]
  },
  {
   "cell_type": "code",
   "execution_count": 8,
   "metadata": {},
   "outputs": [
    {
     "name": "stderr",
     "output_type": "stream",
     "text": [
      "100%|██████████| 940/940 [03:24<00:00,  4.60it/s]\n"
     ]
    }
   ],
   "source": [
    "from tqdm import tqdm\n",
    "no_data_list_kospi = []\n",
    "for ticker in tqdm(ks_tickers):\n",
    "    try:\n",
    "        stock.get_market_ohlcv_by_date(fromdate=start_date, \n",
    "                                       todate=end_date,\n",
    "                                       ticker=ticker).to_parquet(f'data_kospi/{ticker}.parquet')\n",
    "    except:\n",
    "        no_data_list_kospi += [ticker]"
   ]
  },
  {
   "cell_type": "code",
   "execution_count": 9,
   "metadata": {},
   "outputs": [
    {
     "name": "stderr",
     "output_type": "stream",
     "text": [
      "100%|██████████| 1556/1556 [03:52<00:00,  6.68it/s]\n"
     ]
    }
   ],
   "source": [
    "no_data_list_kosdaq = []\n",
    "for ticker in tqdm(kq_tickers):\n",
    "    try:\n",
    "        stock.get_market_ohlcv_by_date(fromdate=start_date, \n",
    "                                       todate=end_date,\n",
    "                                       ticker=ticker).to_parquet(f'data_kosdaq/{ticker}.parquet')\n",
    "    except:\n",
    "        no_data_list_kosdaq += [ticker]"
   ]
  },
  {
   "cell_type": "code",
   "execution_count": 25,
   "metadata": {},
   "outputs": [],
   "source": [
    "import os\n",
    "files = [f for f in os.listdir('data_kospi') if len(f)==14] # 종목 데이터만 선택"
   ]
  },
  {
   "cell_type": "code",
   "execution_count": 50,
   "metadata": {},
   "outputs": [
    {
     "data": {
      "text/html": [
       "<div>\n",
       "<style scoped>\n",
       "    .dataframe tbody tr th:only-of-type {\n",
       "        vertical-align: middle;\n",
       "    }\n",
       "\n",
       "    .dataframe tbody tr th {\n",
       "        vertical-align: top;\n",
       "    }\n",
       "\n",
       "    .dataframe thead th {\n",
       "        text-align: right;\n",
       "    }\n",
       "</style>\n",
       "<table border=\"1\" class=\"dataframe\">\n",
       "  <thead>\n",
       "    <tr style=\"text-align: right;\">\n",
       "      <th></th>\n",
       "      <th></th>\n",
       "      <th>시가</th>\n",
       "      <th>고가</th>\n",
       "      <th>저가</th>\n",
       "      <th>종가</th>\n",
       "      <th>거래량</th>\n",
       "    </tr>\n",
       "    <tr>\n",
       "      <th>종목코드</th>\n",
       "      <th>날짜</th>\n",
       "      <th></th>\n",
       "      <th></th>\n",
       "      <th></th>\n",
       "      <th></th>\n",
       "      <th></th>\n",
       "    </tr>\n",
       "  </thead>\n",
       "  <tbody>\n",
       "    <tr>\n",
       "      <th rowspan=\"11\" valign=\"top\">095570</th>\n",
       "      <th>2015-08-21</th>\n",
       "      <td>6180</td>\n",
       "      <td>7300</td>\n",
       "      <td>5600</td>\n",
       "      <td>7100</td>\n",
       "      <td>1994022</td>\n",
       "    </tr>\n",
       "    <tr>\n",
       "      <th>2015-08-24</th>\n",
       "      <td>6700</td>\n",
       "      <td>6940</td>\n",
       "      <td>6240</td>\n",
       "      <td>6480</td>\n",
       "      <td>392831</td>\n",
       "    </tr>\n",
       "    <tr>\n",
       "      <th>2015-08-25</th>\n",
       "      <td>6610</td>\n",
       "      <td>6730</td>\n",
       "      <td>6189</td>\n",
       "      <td>6220</td>\n",
       "      <td>242730</td>\n",
       "    </tr>\n",
       "    <tr>\n",
       "      <th>2015-08-26</th>\n",
       "      <td>6260</td>\n",
       "      <td>7760</td>\n",
       "      <td>6260</td>\n",
       "      <td>7090</td>\n",
       "      <td>703721</td>\n",
       "    </tr>\n",
       "    <tr>\n",
       "      <th>2015-08-27</th>\n",
       "      <td>7239</td>\n",
       "      <td>8060</td>\n",
       "      <td>6960</td>\n",
       "      <td>7570</td>\n",
       "      <td>499913</td>\n",
       "    </tr>\n",
       "    <tr>\n",
       "      <th>...</th>\n",
       "      <td>...</td>\n",
       "      <td>...</td>\n",
       "      <td>...</td>\n",
       "      <td>...</td>\n",
       "      <td>...</td>\n",
       "    </tr>\n",
       "    <tr>\n",
       "      <th>2022-03-25</th>\n",
       "      <td>6100</td>\n",
       "      <td>6130</td>\n",
       "      <td>5970</td>\n",
       "      <td>6030</td>\n",
       "      <td>83143</td>\n",
       "    </tr>\n",
       "    <tr>\n",
       "      <th>2022-03-28</th>\n",
       "      <td>5970</td>\n",
       "      <td>6270</td>\n",
       "      <td>5970</td>\n",
       "      <td>6180</td>\n",
       "      <td>149496</td>\n",
       "    </tr>\n",
       "    <tr>\n",
       "      <th>2022-03-29</th>\n",
       "      <td>6090</td>\n",
       "      <td>6220</td>\n",
       "      <td>6050</td>\n",
       "      <td>6080</td>\n",
       "      <td>70328</td>\n",
       "    </tr>\n",
       "    <tr>\n",
       "      <th>2022-03-30</th>\n",
       "      <td>6100</td>\n",
       "      <td>6190</td>\n",
       "      <td>5990</td>\n",
       "      <td>6170</td>\n",
       "      <td>79050</td>\n",
       "    </tr>\n",
       "    <tr>\n",
       "      <th>2022-03-31</th>\n",
       "      <td>6170</td>\n",
       "      <td>6220</td>\n",
       "      <td>6100</td>\n",
       "      <td>6190</td>\n",
       "      <td>57299</td>\n",
       "    </tr>\n",
       "  </tbody>\n",
       "</table>\n",
       "<p>1624 rows × 5 columns</p>\n",
       "</div>"
      ],
      "text/plain": [
       "                     시가    고가    저가    종가      거래량\n",
       "종목코드   날짜                                         \n",
       "095570 2015-08-21  6180  7300  5600  7100  1994022\n",
       "       2015-08-24  6700  6940  6240  6480   392831\n",
       "       2015-08-25  6610  6730  6189  6220   242730\n",
       "       2015-08-26  6260  7760  6260  7090   703721\n",
       "       2015-08-27  7239  8060  6960  7570   499913\n",
       "...                 ...   ...   ...   ...      ...\n",
       "       2022-03-25  6100  6130  5970  6030    83143\n",
       "       2022-03-28  5970  6270  5970  6180   149496\n",
       "       2022-03-29  6090  6220  6050  6080    70328\n",
       "       2022-03-30  6100  6190  5990  6170    79050\n",
       "       2022-03-31  6170  6220  6100  6190    57299\n",
       "\n",
       "[1624 rows x 5 columns]"
      ]
     },
     "execution_count": 50,
     "metadata": {},
     "output_type": "execute_result"
    }
   ],
   "source": [
    "file = files[0]\n",
    "pd.read_parquet(f'data_kospi/{file}').assign(종목코드=file.split('.')[0]).set_index('종목코드', append=True).swaplevel()"
   ]
  },
  {
   "cell_type": "code",
   "execution_count": 51,
   "metadata": {},
   "outputs": [],
   "source": [
    "import pandas as pd\n",
    "data_kospi = pd.concat([pd.read_parquet(f'data_kospi/{file}').assign(종목코드=file.split('.')[0]).set_index('종목코드', append=True).swaplevel() for file in files], axis=0)"
   ]
  },
  {
   "cell_type": "code",
   "execution_count": 52,
   "metadata": {},
   "outputs": [],
   "source": [
    "files = [f for f in os.listdir('data_kosdaq') if len(f)==14] # 종목 데이터만 선택"
   ]
  },
  {
   "cell_type": "code",
   "execution_count": 54,
   "metadata": {},
   "outputs": [],
   "source": [
    "data_kosdaq = pd.concat([pd.read_parquet(f'data_kosdaq/{file}').assign(종목코드=file.split('.')[0]).set_index('종목코드', append=True).swaplevel() for file in files], axis=0)"
   ]
  },
  {
   "cell_type": "code",
   "execution_count": null,
   "metadata": {},
   "outputs": [
    {
     "name": "stdout",
     "output_type": "stream",
     "text": [
      "<class 'pandas.core.frame.DataFrame'>\n",
      "DatetimeIndex: 4038103 entries, 2015-08-21 to 2022-03-31\n",
      "Data columns (total 5 columns):\n",
      " #   Column  Dtype\n",
      "---  ------  -----\n",
      " 0   시가      int32\n",
      " 1   고가      int32\n",
      " 2   저가      int32\n",
      " 3   종가      int32\n",
      " 4   거래량     int32\n",
      "dtypes: int32(5)\n",
      "memory usage: 107.8 MB\n"
     ]
    }
   ],
   "source": [
    "data_kospi.info()"
   ]
  },
  {
   "cell_type": "code",
   "execution_count": null,
   "metadata": {},
   "outputs": [
    {
     "name": "stdout",
     "output_type": "stream",
     "text": [
      "<class 'pandas.core.frame.DataFrame'>\n",
      "DatetimeIndex: 4494584 entries, 2002-04-23 to 2022-03-31\n",
      "Data columns (total 5 columns):\n",
      " #   Column  Dtype\n",
      "---  ------  -----\n",
      " 0   시가      int32\n",
      " 1   고가      int32\n",
      " 2   저가      int32\n",
      " 3   종가      int32\n",
      " 4   거래량     int32\n",
      "dtypes: int32(5)\n",
      "memory usage: 120.0 MB\n"
     ]
    }
   ],
   "source": [
    "data_kosdaq.info()"
   ]
  },
  {
   "cell_type": "code",
   "execution_count": null,
   "metadata": {},
   "outputs": [],
   "source": [
    "data_kosdaq.to_parquet('kosdaq_listed_pykrx.parquet')"
   ]
  },
  {
   "cell_type": "code",
   "execution_count": null,
   "metadata": {},
   "outputs": [],
   "source": [
    "data_kospi.to_parquet('kospi_listed_pykrx.parquet')"
   ]
  },
  {
   "cell_type": "code",
   "execution_count": null,
   "metadata": {},
   "outputs": [
    {
     "data": {
      "text/html": [
       "<div>\n",
       "<style scoped>\n",
       "    .dataframe tbody tr th:only-of-type {\n",
       "        vertical-align: middle;\n",
       "    }\n",
       "\n",
       "    .dataframe tbody tr th {\n",
       "        vertical-align: top;\n",
       "    }\n",
       "\n",
       "    .dataframe thead th {\n",
       "        text-align: right;\n",
       "    }\n",
       "</style>\n",
       "<table border=\"1\" class=\"dataframe\">\n",
       "  <thead>\n",
       "    <tr style=\"text-align: right;\">\n",
       "      <th></th>\n",
       "      <th>시가</th>\n",
       "      <th>고가</th>\n",
       "      <th>저가</th>\n",
       "      <th>종가</th>\n",
       "      <th>거래량</th>\n",
       "    </tr>\n",
       "    <tr>\n",
       "      <th>날짜</th>\n",
       "      <th></th>\n",
       "      <th></th>\n",
       "      <th></th>\n",
       "      <th></th>\n",
       "      <th></th>\n",
       "    </tr>\n",
       "  </thead>\n",
       "  <tbody>\n",
       "    <tr>\n",
       "      <th>2015-08-21</th>\n",
       "      <td>6180</td>\n",
       "      <td>7300</td>\n",
       "      <td>5600</td>\n",
       "      <td>7100</td>\n",
       "      <td>1994022</td>\n",
       "    </tr>\n",
       "    <tr>\n",
       "      <th>2015-08-24</th>\n",
       "      <td>6700</td>\n",
       "      <td>6940</td>\n",
       "      <td>6240</td>\n",
       "      <td>6480</td>\n",
       "      <td>392831</td>\n",
       "    </tr>\n",
       "    <tr>\n",
       "      <th>2015-08-25</th>\n",
       "      <td>6610</td>\n",
       "      <td>6730</td>\n",
       "      <td>6189</td>\n",
       "      <td>6220</td>\n",
       "      <td>242730</td>\n",
       "    </tr>\n",
       "    <tr>\n",
       "      <th>2015-08-26</th>\n",
       "      <td>6260</td>\n",
       "      <td>7760</td>\n",
       "      <td>6260</td>\n",
       "      <td>7090</td>\n",
       "      <td>703721</td>\n",
       "    </tr>\n",
       "    <tr>\n",
       "      <th>2015-08-27</th>\n",
       "      <td>7239</td>\n",
       "      <td>8060</td>\n",
       "      <td>6960</td>\n",
       "      <td>7570</td>\n",
       "      <td>499913</td>\n",
       "    </tr>\n",
       "    <tr>\n",
       "      <th>...</th>\n",
       "      <td>...</td>\n",
       "      <td>...</td>\n",
       "      <td>...</td>\n",
       "      <td>...</td>\n",
       "      <td>...</td>\n",
       "    </tr>\n",
       "    <tr>\n",
       "      <th>2022-03-25</th>\n",
       "      <td>2850</td>\n",
       "      <td>2870</td>\n",
       "      <td>2780</td>\n",
       "      <td>2790</td>\n",
       "      <td>623497</td>\n",
       "    </tr>\n",
       "    <tr>\n",
       "      <th>2022-03-28</th>\n",
       "      <td>2795</td>\n",
       "      <td>2815</td>\n",
       "      <td>2730</td>\n",
       "      <td>2770</td>\n",
       "      <td>574122</td>\n",
       "    </tr>\n",
       "    <tr>\n",
       "      <th>2022-03-29</th>\n",
       "      <td>2755</td>\n",
       "      <td>2825</td>\n",
       "      <td>2710</td>\n",
       "      <td>2745</td>\n",
       "      <td>555086</td>\n",
       "    </tr>\n",
       "    <tr>\n",
       "      <th>2022-03-30</th>\n",
       "      <td>2785</td>\n",
       "      <td>3205</td>\n",
       "      <td>2735</td>\n",
       "      <td>2890</td>\n",
       "      <td>10896198</td>\n",
       "    </tr>\n",
       "    <tr>\n",
       "      <th>2022-03-31</th>\n",
       "      <td>2860</td>\n",
       "      <td>2950</td>\n",
       "      <td>2810</td>\n",
       "      <td>2910</td>\n",
       "      <td>1181048</td>\n",
       "    </tr>\n",
       "  </tbody>\n",
       "</table>\n",
       "<p>4038103 rows × 5 columns</p>\n",
       "</div>"
      ],
      "text/plain": [
       "              시가    고가    저가    종가       거래량\n",
       "날짜                                          \n",
       "2015-08-21  6180  7300  5600  7100   1994022\n",
       "2015-08-24  6700  6940  6240  6480    392831\n",
       "2015-08-25  6610  6730  6189  6220    242730\n",
       "2015-08-26  6260  7760  6260  7090    703721\n",
       "2015-08-27  7239  8060  6960  7570    499913\n",
       "...          ...   ...   ...   ...       ...\n",
       "2022-03-25  2850  2870  2780  2790    623497\n",
       "2022-03-28  2795  2815  2730  2770    574122\n",
       "2022-03-29  2755  2825  2710  2745    555086\n",
       "2022-03-30  2785  3205  2735  2890  10896198\n",
       "2022-03-31  2860  2950  2810  2910   1181048\n",
       "\n",
       "[4038103 rows x 5 columns]"
      ]
     },
     "execution_count": 23,
     "metadata": {},
     "output_type": "execute_result"
    }
   ],
   "source": [
    "pd.read_parquet('kospi_listed_pykrx.parquet')"
   ]
  },
  {
   "cell_type": "code",
   "execution_count": null,
   "metadata": {},
   "outputs": [
    {
     "data": {
      "text/html": [
       "<div>\n",
       "<style scoped>\n",
       "    .dataframe tbody tr th:only-of-type {\n",
       "        vertical-align: middle;\n",
       "    }\n",
       "\n",
       "    .dataframe tbody tr th {\n",
       "        vertical-align: top;\n",
       "    }\n",
       "\n",
       "    .dataframe thead th {\n",
       "        text-align: right;\n",
       "    }\n",
       "</style>\n",
       "<table border=\"1\" class=\"dataframe\">\n",
       "  <thead>\n",
       "    <tr style=\"text-align: right;\">\n",
       "      <th></th>\n",
       "      <th>시가</th>\n",
       "      <th>고가</th>\n",
       "      <th>저가</th>\n",
       "      <th>종가</th>\n",
       "      <th>거래량</th>\n",
       "    </tr>\n",
       "    <tr>\n",
       "      <th>날짜</th>\n",
       "      <th></th>\n",
       "      <th></th>\n",
       "      <th></th>\n",
       "      <th></th>\n",
       "      <th></th>\n",
       "    </tr>\n",
       "  </thead>\n",
       "  <tbody>\n",
       "    <tr>\n",
       "      <th>2002-04-23</th>\n",
       "      <td>3316</td>\n",
       "      <td>3316</td>\n",
       "      <td>3316</td>\n",
       "      <td>3315</td>\n",
       "      <td>545120</td>\n",
       "    </tr>\n",
       "    <tr>\n",
       "      <th>2002-04-24</th>\n",
       "      <td>3652</td>\n",
       "      <td>3714</td>\n",
       "      <td>3382</td>\n",
       "      <td>3712</td>\n",
       "      <td>703615</td>\n",
       "    </tr>\n",
       "    <tr>\n",
       "      <th>2002-04-25</th>\n",
       "      <td>4158</td>\n",
       "      <td>4158</td>\n",
       "      <td>3268</td>\n",
       "      <td>3817</td>\n",
       "      <td>3843510</td>\n",
       "    </tr>\n",
       "    <tr>\n",
       "      <th>2002-04-26</th>\n",
       "      <td>3731</td>\n",
       "      <td>3820</td>\n",
       "      <td>3361</td>\n",
       "      <td>3360</td>\n",
       "      <td>880555</td>\n",
       "    </tr>\n",
       "    <tr>\n",
       "      <th>2002-04-29</th>\n",
       "      <td>2968</td>\n",
       "      <td>3142</td>\n",
       "      <td>2959</td>\n",
       "      <td>2959</td>\n",
       "      <td>696940</td>\n",
       "    </tr>\n",
       "    <tr>\n",
       "      <th>...</th>\n",
       "      <td>...</td>\n",
       "      <td>...</td>\n",
       "      <td>...</td>\n",
       "      <td>...</td>\n",
       "      <td>...</td>\n",
       "    </tr>\n",
       "    <tr>\n",
       "      <th>2022-03-25</th>\n",
       "      <td>9260</td>\n",
       "      <td>9260</td>\n",
       "      <td>9130</td>\n",
       "      <td>9180</td>\n",
       "      <td>15980</td>\n",
       "    </tr>\n",
       "    <tr>\n",
       "      <th>2022-03-28</th>\n",
       "      <td>9180</td>\n",
       "      <td>9180</td>\n",
       "      <td>9060</td>\n",
       "      <td>9140</td>\n",
       "      <td>14712</td>\n",
       "    </tr>\n",
       "    <tr>\n",
       "      <th>2022-03-29</th>\n",
       "      <td>9150</td>\n",
       "      <td>9150</td>\n",
       "      <td>9050</td>\n",
       "      <td>9100</td>\n",
       "      <td>11512</td>\n",
       "    </tr>\n",
       "    <tr>\n",
       "      <th>2022-03-30</th>\n",
       "      <td>9100</td>\n",
       "      <td>9190</td>\n",
       "      <td>9070</td>\n",
       "      <td>9100</td>\n",
       "      <td>11770</td>\n",
       "    </tr>\n",
       "    <tr>\n",
       "      <th>2022-03-31</th>\n",
       "      <td>9180</td>\n",
       "      <td>9180</td>\n",
       "      <td>9030</td>\n",
       "      <td>9130</td>\n",
       "      <td>12115</td>\n",
       "    </tr>\n",
       "  </tbody>\n",
       "</table>\n",
       "<p>4494584 rows × 5 columns</p>\n",
       "</div>"
      ],
      "text/plain": [
       "              시가    고가    저가    종가      거래량\n",
       "날짜                                         \n",
       "2002-04-23  3316  3316  3316  3315   545120\n",
       "2002-04-24  3652  3714  3382  3712   703615\n",
       "2002-04-25  4158  4158  3268  3817  3843510\n",
       "2002-04-26  3731  3820  3361  3360   880555\n",
       "2002-04-29  2968  3142  2959  2959   696940\n",
       "...          ...   ...   ...   ...      ...\n",
       "2022-03-25  9260  9260  9130  9180    15980\n",
       "2022-03-28  9180  9180  9060  9140    14712\n",
       "2022-03-29  9150  9150  9050  9100    11512\n",
       "2022-03-30  9100  9190  9070  9100    11770\n",
       "2022-03-31  9180  9180  9030  9130    12115\n",
       "\n",
       "[4494584 rows x 5 columns]"
      ]
     },
     "execution_count": 24,
     "metadata": {},
     "output_type": "execute_result"
    }
   ],
   "source": [
    "pd.read_parquet('kosdaq_listed_pykrx.parquet')"
   ]
  },
  {
   "cell_type": "code",
   "execution_count": null,
   "metadata": {},
   "outputs": [],
   "source": []
  }
 ],
 "metadata": {
  "interpreter": {
   "hash": "b64e6d37025191f8897201609fa25d99ed7f3efa68431b2fd35ea8a7a979e1ce"
  },
  "kernelspec": {
   "display_name": "Python 3.8.12 ('ml4t')",
   "language": "python",
   "name": "python3"
  },
  "language_info": {
   "codemirror_mode": {
    "name": "ipython",
    "version": 3
   },
   "file_extension": ".py",
   "mimetype": "text/x-python",
   "name": "python",
   "nbconvert_exporter": "python",
   "pygments_lexer": "ipython3",
   "version": "3.8.12"
  },
  "orig_nbformat": 4
 },
 "nbformat": 4,
 "nbformat_minor": 2
}
